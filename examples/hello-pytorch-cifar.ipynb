{
  "cells": [
    {
      "cell_type": "markdown",
      "metadata": {
        "id": "VFy6c6wbrIzJ"
      },
      "source": [
        "# Hello World: PyTorch CIFAR-10 Image Classification\n",
        "\n",
        "[![Open In Colab](https://colab.research.google.com/assets/colab-badge.svg)](https://colab.research.google.com/github/vuhung16au/pytorch-mastery/blob/main/examples/hello-pytorch-cifar.ipynb)\n",
        "[![View on GitHub](https://img.shields.io/badge/View_on-GitHub-blue?logo=github)](https://github.com/vuhung16au/pytorch-mastery/blob/main/examples/hello-pytorch-cifar.ipynb)\n",
        "\n",
        "This notebook demonstrates the fundamentals of PyTorch through a simple image classification task using the CIFAR-10 dataset. It's designed as a \"Hello World\" introduction to PyTorch for learners transitioning from TensorFlow.\n",
        "\n",
        "## Learning Objectives\n",
        "- Understand PyTorch tensor operations and autograd\n",
        "- Build a basic CNN model using `nn.Module`\n",
        "- Implement manual training loops (vs TensorFlow's `model.fit()`)\n",
        "- Use PyTorch data loaders and transformations\n",
        "- Monitor training with TensorBoard\n",
        "\n",
        "## CIFAR-10 Dataset\n",
        "CIFAR-10 contains 60,000 32x32 color images in 10 classes:\n",
        "- 🛩️ airplane, 🚗 automobile, 🐦 bird, 🐱 cat, 🦌 deer\n",
        "- 🐶 dog, 🐸 frog, 🐴 horse, 🚢 ship, 🚛 truck\n",
        "\n",
        "**Dataset Source**: https://www.cs.toronto.edu/~kriz/cifar.html\n",
        "\n",
        "---"
      ]
    },
    {
      "cell_type": "markdown",
      "metadata": {
        "id": "82eLApldrIzJ"
      },
      "source": [
        "## 1. Environment Setup and Runtime Detection\n",
        "\n",
        "Following PyTorch best practices for cross-platform compatibility:"
      ]
    },
    {
      "cell_type": "code",
      "execution_count": 1,
      "metadata": {
        "id": "E492cdVyrIzK",
        "outputId": "15897f05-199e-4c72-9dd1-aa142f0976ef",
        "colab": {
          "base_uri": "https://localhost:8080/"
        }
      },
      "outputs": [
        {
          "output_type": "stream",
          "name": "stdout",
          "text": [
            "🌐 Environment detected:\n",
            "  - Local: False\n",
            "  - Google Colab: True\n",
            "  - Kaggle: False\n",
            "\n",
            "🔧 Setting up Google Colab environment...\n"
          ]
        }
      ],
      "source": [
        "# Environment Detection and Setup\n",
        "import sys\n",
        "import subprocess\n",
        "import os\n",
        "import time\n",
        "\n",
        "# Detect the runtime environment\n",
        "IS_COLAB = \"google.colab\" in sys.modules\n",
        "IS_KAGGLE = \"kaggle_secrets\" in sys.modules or \"kaggle\" in os.environ.get('KAGGLE_URL_BASE', '')\n",
        "IS_LOCAL = not (IS_COLAB or IS_KAGGLE)\n",
        "\n",
        "print(f\"🌐 Environment detected:\")\n",
        "print(f\"  - Local: {IS_LOCAL}\")\n",
        "print(f\"  - Google Colab: {IS_COLAB}\")\n",
        "print(f\"  - Kaggle: {IS_KAGGLE}\")\n",
        "\n",
        "# Platform-specific system setup\n",
        "if IS_COLAB:\n",
        "    print(\"\\n🔧 Setting up Google Colab environment...\")\n",
        "    # Colab usually has PyTorch pre-installed\n",
        "elif IS_KAGGLE:\n",
        "    print(\"\\n🔧 Setting up Kaggle environment...\")\n",
        "    # Kaggle usually has most packages pre-installed\n",
        "else:\n",
        "    print(\"\\n🔧 Setting up local environment...\")"
      ]
    },
    {
      "cell_type": "code",
      "execution_count": 2,
      "metadata": {
        "id": "VNVY9CrWrIzK",
        "outputId": "58ee211d-f07b-4395-e721-2b6639d60aec",
        "colab": {
          "base_uri": "https://localhost:8080/"
        }
      },
      "outputs": [
        {
          "output_type": "stream",
          "name": "stdout",
          "text": [
            "📦 Installing required packages...\n",
            "⚠️ torch (may already be installed)\n",
            "⚠️ torchvision (may already be installed)\n",
            "⚠️ matplotlib (may already be installed)\n",
            "⚠️ tensorboard (may already be installed)\n",
            "\n",
            "🎉 Package installation completed!\n"
          ]
        }
      ],
      "source": [
        "# Install required packages based on platform\n",
        "required_packages = [\n",
        "    \"torch\",\n",
        "    \"torchvision\",\n",
        "    \"matplotlib\",\n",
        "    \"tensorboard\"\n",
        "]\n",
        "\n",
        "print(\"📦 Installing required packages...\")\n",
        "for package in required_packages:\n",
        "    if IS_COLAB or IS_KAGGLE:\n",
        "        # Use IPython magic commands for notebook environments\n",
        "        try:\n",
        "            exec(f\"!pip install -q {package}\")\n",
        "            print(f\"✅ {package}\")\n",
        "        except:\n",
        "            print(f\"⚠️ {package} (may already be installed)\")\n",
        "    else:\n",
        "        try:\n",
        "            subprocess.run([sys.executable, \"-m\", \"pip\", \"install\", \"-q\", package],\n",
        "                          capture_output=True, check=True)\n",
        "            print(f\"✅ {package}\")\n",
        "        except subprocess.CalledProcessError:\n",
        "            print(f\"⚠️ {package} (may already be installed)\")\n",
        "\n",
        "print(\"\\n🎉 Package installation completed!\")"
      ]
    },
    {
      "cell_type": "code",
      "execution_count": 3,
      "metadata": {
        "id": "zbII8XEVrIzK",
        "outputId": "bd089d3b-4654-4f4d-99f2-d59c27e97b4b",
        "colab": {
          "base_uri": "https://localhost:8080/"
        }
      },
      "outputs": [
        {
          "output_type": "stream",
          "name": "stdout",
          "text": [
            "🔥 PyTorch 2.8.0+cu126 ready!\n",
            "🖥️ CUDA available: True\n",
            "🎯 Device: GPU\n",
            "\n",
            "💾 Using device: cuda\n"
          ]
        }
      ],
      "source": [
        "# Verify PyTorch installation and import core libraries\n",
        "import torch\n",
        "import torch.nn as nn\n",
        "import torch.optim as optim\n",
        "import torch.nn.functional as F\n",
        "from torch.utils.data import DataLoader\n",
        "from torch.utils.tensorboard import SummaryWriter\n",
        "\n",
        "import torchvision\n",
        "import torchvision.transforms as transforms\n",
        "\n",
        "import matplotlib.pyplot as plt\n",
        "import numpy as np\n",
        "from datetime import datetime\n",
        "import tempfile\n",
        "\n",
        "print(f\"🔥 PyTorch {torch.__version__} ready!\")\n",
        "print(f\"🖥️ CUDA available: {torch.cuda.is_available()}\")\n",
        "print(f\"🎯 Device: {'GPU' if torch.cuda.is_available() else 'CPU'}\")\n",
        "\n",
        "# Set device for training\n",
        "device = torch.device(\"cuda\" if torch.cuda.is_available() else \"cpu\")\n",
        "print(f\"\\n💾 Using device: {device}\")"
      ]
    },
    {
      "cell_type": "markdown",
      "metadata": {
        "id": "vREs7xAtrIzK"
      },
      "source": [
        "## 2. TensorBoard Setup for Training Monitoring\n",
        "\n",
        "PyTorch requires explicit TensorBoard setup (unlike TensorFlow's integrated callbacks):"
      ]
    },
    {
      "cell_type": "code",
      "execution_count": 4,
      "metadata": {
        "id": "acjzvUaprIzK",
        "outputId": "afa62823-52a1-44ae-903c-c1f1a39a6348",
        "colab": {
          "base_uri": "https://localhost:8080/"
        }
      },
      "outputs": [
        {
          "output_type": "stream",
          "name": "stdout",
          "text": [
            "📊 TensorBoard logs will be saved to: /content/tensorboard_logs/hello_pytorch_cifar_2025_09_21-00_33_18\n",
            "💡 To view logs, run: tensorboard --logdir=/content/tensorboard_logs/hello_pytorch_cifar_2025_09_21-00_33_18\n"
          ]
        }
      ],
      "source": [
        "# Platform-specific TensorBoard log directory setup\n",
        "def get_run_logdir(name=\"cifar10_training\"):\n",
        "    \"\"\"Create unique log directory for this training run.\"\"\"\n",
        "    if IS_COLAB:\n",
        "        root_logdir = \"/content/tensorboard_logs\"\n",
        "    elif IS_KAGGLE:\n",
        "        root_logdir = \"./tensorboard_logs\"\n",
        "    else:\n",
        "        root_logdir = \"./tensorboard_logs\"\n",
        "\n",
        "    # Create root directory if it doesn't exist\n",
        "    os.makedirs(root_logdir, exist_ok=True)\n",
        "\n",
        "    # Generate unique run directory\n",
        "    timestamp = datetime.now().strftime(\"%Y_%m_%d-%H_%M_%S\")\n",
        "    run_logdir = os.path.join(root_logdir, f\"{name}_{timestamp}\")\n",
        "    return run_logdir\n",
        "\n",
        "# Initialize TensorBoard writer\n",
        "log_dir = get_run_logdir(\"hello_pytorch_cifar\")\n",
        "writer = SummaryWriter(log_dir=log_dir)\n",
        "\n",
        "print(f\"📊 TensorBoard logs will be saved to: {log_dir}\")\n",
        "print(f\"💡 To view logs, run: tensorboard --logdir={log_dir}\")"
      ]
    },
    {
      "cell_type": "markdown",
      "metadata": {
        "id": "T-vaCKWPrIzK"
      },
      "source": [
        "## 3. Data Loading and Preprocessing\n",
        "\n",
        "**Key Difference from TensorFlow**: PyTorch uses explicit transforms and DataLoader objects:"
      ]
    },
    {
      "cell_type": "code",
      "execution_count": 5,
      "metadata": {
        "id": "ZI2SWbJWrIzK",
        "outputId": "c94488c2-b1a5-4b6a-b92a-ff9032382686",
        "colab": {
          "base_uri": "https://localhost:8080/"
        }
      },
      "outputs": [
        {
          "output_type": "stream",
          "name": "stdout",
          "text": [
            "📥 Loading CIFAR-10 dataset...\n",
            "🌐 Attempting to download CIFAR-10 dataset...\n"
          ]
        },
        {
          "output_type": "stream",
          "name": "stderr",
          "text": [
            "100%|██████████| 170M/170M [00:03<00:00, 43.2MB/s]\n"
          ]
        },
        {
          "output_type": "stream",
          "name": "stdout",
          "text": [
            "✅ CIFAR-10 dataset downloaded successfully!\n",
            "✅ Dataset loaded successfully!\n",
            "📊 Training samples: 50000\n",
            "📊 Test samples: 10000\n",
            "🏷️ Classes: ['airplane', 'automobile', 'bird', 'cat', 'deer', 'dog', 'frog', 'horse', 'ship', 'truck']\n"
          ]
        }
      ],
      "source": [
        "# Data transformations for training and testing\n",
        "# TensorFlow equivalent: tf.keras.preprocessing.image.ImageDataGenerator\n",
        "\n",
        "transform_train = transforms.Compose([\n",
        "    transforms.RandomHorizontalFlip(p=0.5),  # Data augmentation\n",
        "    transforms.ToTensor(),                   # Convert PIL Image to tensor\n",
        "    transforms.Normalize((0.4914, 0.4822, 0.4465), (0.2023, 0.1994, 0.2010))  # CIFAR-10 statistics\n",
        "])\n",
        "\n",
        "transform_test = transforms.Compose([\n",
        "    transforms.ToTensor(),\n",
        "    transforms.Normalize((0.4914, 0.4822, 0.4465), (0.2023, 0.1994, 0.2010))\n",
        "])\n",
        "\n",
        "# Download and load CIFAR-10 dataset\n",
        "print(\"📥 Loading CIFAR-10 dataset...\")\n",
        "\n",
        "try:\n",
        "    # Try to download CIFAR-10 dataset (requires internet)\n",
        "    print(\"🌐 Attempting to download CIFAR-10 dataset...\")\n",
        "\n",
        "    # Training dataset\n",
        "    trainset = torchvision.datasets.CIFAR10(\n",
        "        root='./data',\n",
        "        train=True,\n",
        "        download=True,\n",
        "        transform=transform_train\n",
        "    )\n",
        "\n",
        "    # Test dataset\n",
        "    testset = torchvision.datasets.CIFAR10(\n",
        "        root='./data',\n",
        "        train=False,\n",
        "        download=True,\n",
        "        transform=transform_test\n",
        "    )\n",
        "\n",
        "    print(\"✅ CIFAR-10 dataset downloaded successfully!\")\n",
        "\n",
        "except Exception as e:\n",
        "    print(f\"⚠️ Cannot download CIFAR-10 dataset: {type(e).__name__}\")\n",
        "    print(\"🔄 Creating synthetic dataset for demonstration purposes...\")\n",
        "\n",
        "    # Create synthetic CIFAR-10-like dataset for demo when offline\n",
        "    from torch.utils.data import TensorDataset\n",
        "\n",
        "    # Generate synthetic data: 32x32 RGB images\n",
        "    synthetic_train_images = torch.randn(1000, 3, 32, 32)  # 1000 training samples\n",
        "    synthetic_train_labels = torch.randint(0, 10, (1000,))  # Random labels 0-9\n",
        "\n",
        "    synthetic_test_images = torch.randn(200, 3, 32, 32)   # 200 test samples\n",
        "    synthetic_test_labels = torch.randint(0, 10, (200,))   # Random labels 0-9\n",
        "\n",
        "    # Apply transformations manually to synthetic data\n",
        "    # Normalize using CIFAR-10 statistics\n",
        "    mean = torch.tensor([0.4914, 0.4822, 0.4465]).view(3, 1, 1)\n",
        "    std = torch.tensor([0.2023, 0.1994, 0.2010]).view(3, 1, 1)\n",
        "\n",
        "    synthetic_train_images = (synthetic_train_images - mean) / std\n",
        "    synthetic_test_images = (synthetic_test_images - mean) / std\n",
        "\n",
        "    # Create tensor datasets\n",
        "    trainset = TensorDataset(synthetic_train_images, synthetic_train_labels)\n",
        "    testset = TensorDataset(synthetic_test_images, synthetic_test_labels)\n",
        "\n",
        "    print(\"✅ Synthetic dataset created for demonstration!\")\n",
        "    print(\"📝 Note: This is random data, not real CIFAR-10 images\")\n",
        "\n",
        "# Data loaders (equivalent to TensorFlow's tf.data.Dataset)\n",
        "batch_size = 32  # Small batch size for educational purposes\n",
        "\n",
        "trainloader = DataLoader(\n",
        "    trainset,\n",
        "    batch_size=batch_size,\n",
        "    shuffle=True,      # Shuffle training data\n",
        "    num_workers=0      # Use 0 for synthetic data to avoid pickling issues\n",
        ")\n",
        "\n",
        "testloader = DataLoader(\n",
        "    testset,\n",
        "    batch_size=batch_size,\n",
        "    shuffle=False,     # Don't shuffle test data\n",
        "    num_workers=0      # Use 0 for synthetic data to avoid pickling issues\n",
        ")\n",
        "\n",
        "# CIFAR-10 class names\n",
        "classes = ['airplane', 'automobile', 'bird', 'cat', 'deer',\n",
        "           'dog', 'frog', 'horse', 'ship', 'truck']\n",
        "\n",
        "print(f\"✅ Dataset loaded successfully!\")\n",
        "print(f\"📊 Training samples: {len(trainset)}\")\n",
        "print(f\"📊 Test samples: {len(testset)}\")\n",
        "print(f\"🏷️ Classes: {classes}\")"
      ]
    },
    {
      "cell_type": "markdown",
      "metadata": {
        "id": "siPLUoKTrIzL"
      },
      "source": [
        "## 4. Data Visualization\n",
        "\n",
        "Let's visualize some sample images from our dataset:"
      ]
    },
    {
      "cell_type": "code",
      "execution_count": 6,
      "metadata": {
        "id": "thXrSUcErIzL",
        "outputId": "c4a1f20b-1e57-4130-c065-ac3959bc7220",
        "colab": {
          "base_uri": "https://localhost:8080/",
          "height": 867
        }
      },
      "outputs": [
        {
          "output_type": "stream",
          "name": "stderr",
          "text": [
            "/tmp/ipython-input-3813368247.py:28: UserWarning: Glyph 128444 (\\N{FRAME WITH PICTURE}) missing from font(s) DejaVu Sans.\n",
            "  plt.tight_layout()\n",
            "/usr/local/lib/python3.12/dist-packages/IPython/core/pylabtools.py:151: UserWarning: Glyph 128444 (\\N{FRAME WITH PICTURE}) missing from font(s) DejaVu Sans.\n",
            "  fig.canvas.print_figure(bytes_io, **kw)\n"
          ]
        },
        {
          "output_type": "display_data",
          "data": {
            "text/plain": [
              "<Figure size 1200x800 with 8 Axes>"
            ],
            "image/png": "[encoded data removed]"
          },
          "metadata": {}
        },
        {
          "output_type": "stream",
          "name": "stdout",
          "text": [
            "🎯 Batch shape: torch.Size([32, 3, 32, 32]) (batch_size, channels, height, width)\n",
            "🏷️ Labels shape: torch.Size([32])\n",
            "📋 Sample labels: ['deer', 'airplane', 'deer', 'dog', 'ship', 'deer', 'horse', 'bird']\n"
          ]
        }
      ],
      "source": [
        "# Function to display images\n",
        "def imshow(img, title=None):\n",
        "    \"\"\"Display a tensor image.\"\"\"\n",
        "    # Handle both normalized and unnormalized images\n",
        "    if img.min() < 0:  # If normalized, unnormalize\n",
        "        img = img / 2 + 0.5\n",
        "\n",
        "    # Clamp values to [0, 1] range\n",
        "    img = torch.clamp(img, 0, 1)\n",
        "\n",
        "    npimg = img.numpy()\n",
        "    plt.imshow(np.transpose(npimg, (1, 2, 0)))\n",
        "    if title:\n",
        "        plt.title(title)\n",
        "    plt.axis('off')\n",
        "\n",
        "# Get a batch of training images\n",
        "dataiter = iter(trainloader)\n",
        "images, labels = next(dataiter)\n",
        "\n",
        "# Create a grid of sample images\n",
        "plt.figure(figsize=(12, 8))\n",
        "for i in range(8):  # Show first 8 images\n",
        "    plt.subplot(2, 4, i + 1)\n",
        "    imshow(images[i], title=f'{classes[labels[i]]}')\n",
        "\n",
        "plt.suptitle('🖼️ Sample Images from Training Set (CIFAR-10 or Synthetic)', fontsize=16)\n",
        "plt.tight_layout()\n",
        "plt.show()\n",
        "\n",
        "print(f\"🎯 Batch shape: {images.shape} (batch_size, channels, height, width)\")\n",
        "print(f\"🏷️ Labels shape: {labels.shape}\")\n",
        "print(f\"📋 Sample labels: {[classes[label] for label in labels[:8]]}\")"
      ]
    },
    {
      "cell_type": "markdown",
      "metadata": {
        "id": "W_o1eKDKrIzL"
      },
      "source": [
        "## 5. Model Definition - CNN Architecture\n",
        "\n",
        "**PyTorch vs TensorFlow Model Definition**:\n",
        "- **PyTorch**: Explicit `nn.Module` subclass with `__init__` and `forward` methods\n",
        "- **TensorFlow**: `tf.keras.Sequential` or Functional API\n",
        "\n",
        "Our simple CNN architecture:"
      ]
    },
    {
      "cell_type": "code",
      "execution_count": 7,
      "metadata": {
        "id": "YQm0eawArIzL",
        "outputId": "5fe223ba-e676-471d-9c24-e210e6673083",
        "colab": {
          "base_uri": "https://localhost:8080/"
        }
      },
      "outputs": [
        {
          "output_type": "stream",
          "name": "stdout",
          "text": [
            "🧠 Model: SimpleCIFAR10CNN\n",
            "🔢 Total parameters: 282,250\n",
            "🎯 Trainable parameters: 282,250\n",
            "🏗️ Architecture: Conv2d(32) -> Conv2d(64) -> FC(64) -> FC(10)\n",
            "\n",
            "📋 Model summary:\n",
            "SimpleCIFAR10CNN(\n",
            "  (conv1): Conv2d(3, 32, kernel_size=(3, 3), stride=(1, 1), padding=(1, 1))\n",
            "  (conv2): Conv2d(32, 64, kernel_size=(3, 3), stride=(1, 1), padding=(1, 1))\n",
            "  (pool): MaxPool2d(kernel_size=2, stride=2, padding=0, dilation=1, ceil_mode=False)\n",
            "  (fc1): Linear(in_features=4096, out_features=64, bias=True)\n",
            "  (fc2): Linear(in_features=64, out_features=10, bias=True)\n",
            "  (dropout): Dropout(p=0.5, inplace=False)\n",
            ")\n"
          ]
        }
      ],
      "source": [
        "class SimpleCIFAR10CNN(nn.Module):\n",
        "    \"\"\"\n",
        "    Simple CNN for CIFAR-10 classification - Hello World PyTorch model.\n",
        "\n",
        "    Architecture:\n",
        "    - 2 Convolutional blocks (Conv2d + ReLU + MaxPool)\n",
        "    - 2 Fully connected layers with dropout\n",
        "    - Output: 10 classes (CIFAR-10)\n",
        "\n",
        "    TensorFlow equivalent:\n",
        "    model = tf.keras.Sequential([\n",
        "        tf.keras.layers.Conv2D(32, 3, activation='relu'),\n",
        "        tf.keras.layers.MaxPooling2D(),\n",
        "        tf.keras.layers.Conv2D(64, 3, activation='relu'),\n",
        "        tf.keras.layers.MaxPooling2D(),\n",
        "        tf.keras.layers.Flatten(),\n",
        "        tf.keras.layers.Dense(64, activation='relu'),\n",
        "        tf.keras.layers.Dropout(0.5),\n",
        "        tf.keras.layers.Dense(10)\n",
        "    ])\n",
        "    \"\"\"\n",
        "\n",
        "    def __init__(self, num_classes=10):\n",
        "        super(SimpleCIFAR10CNN, self).__init__()\n",
        "\n",
        "        # Convolutional layers\n",
        "        self.conv1 = nn.Conv2d(3, 32, kernel_size=3, padding=1)   # 3 input channels (RGB)\n",
        "        self.conv2 = nn.Conv2d(32, 64, kernel_size=3, padding=1)  # 32 -> 64 channels\n",
        "\n",
        "        # Pooling layer\n",
        "        self.pool = nn.MaxPool2d(kernel_size=2, stride=2)  # Reduce spatial dimensions by half\n",
        "\n",
        "        # Calculate size after convolutions: 32x32 -> 16x16 -> 8x8\n",
        "        # Final feature map: 64 channels * 8 * 8 = 4096\n",
        "        self.fc1 = nn.Linear(64 * 8 * 8, 64)  # First fully connected layer\n",
        "        self.fc2 = nn.Linear(64, num_classes)  # Output layer\n",
        "\n",
        "        # Dropout for regularization\n",
        "        self.dropout = nn.Dropout(0.5)\n",
        "\n",
        "    def forward(self, x):\n",
        "        \"\"\"\n",
        "        Forward pass through the network.\n",
        "\n",
        "        Args:\n",
        "            x (torch.Tensor): Input batch of images [batch_size, 3, 32, 32]\n",
        "\n",
        "        Returns:\n",
        "            torch.Tensor: Class logits [batch_size, num_classes]\n",
        "        \"\"\"\n",
        "        # Convolutional block 1: Conv -> ReLU -> Pool\n",
        "        x = self.pool(F.relu(self.conv1(x)))  # [batch, 32, 16, 16]\n",
        "\n",
        "        # Convolutional block 2: Conv -> ReLU -> Pool\n",
        "        x = self.pool(F.relu(self.conv2(x)))  # [batch, 64, 8, 8]\n",
        "\n",
        "        # Flatten for fully connected layers\n",
        "        x = x.view(-1, 64 * 8 * 8)            # [batch, 4096]\n",
        "\n",
        "        # Fully connected layers with dropout\n",
        "        x = F.relu(self.fc1(x))               # [batch, 64]\n",
        "        x = self.dropout(x)                   # Apply dropout during training\n",
        "        x = self.fc2(x)                       # [batch, 10] - final logits\n",
        "\n",
        "        return x\n",
        "\n",
        "    def get_model_info(self):\n",
        "        \"\"\"Return model architecture information.\"\"\"\n",
        "        total_params = sum(p.numel() for p in self.parameters())\n",
        "        trainable_params = sum(p.numel() for p in self.parameters() if p.requires_grad)\n",
        "\n",
        "        return {\n",
        "            'model_name': 'SimpleCIFAR10CNN',\n",
        "            'total_parameters': total_params,\n",
        "            'trainable_parameters': trainable_params,\n",
        "            'architecture': 'Conv2d(32) -> Conv2d(64) -> FC(64) -> FC(10)'\n",
        "        }\n",
        "\n",
        "# Create model instance and move to device\n",
        "model = SimpleCIFAR10CNN(num_classes=10).to(device)\n",
        "\n",
        "# Display model information\n",
        "model_info = model.get_model_info()\n",
        "print(f\"🧠 Model: {model_info['model_name']}\")\n",
        "print(f\"🔢 Total parameters: {model_info['total_parameters']:,}\")\n",
        "print(f\"🎯 Trainable parameters: {model_info['trainable_parameters']:,}\")\n",
        "print(f\"🏗️ Architecture: {model_info['architecture']}\")\n",
        "print(f\"\\n📋 Model summary:\")\n",
        "print(model)"
      ]
    },
    {
      "cell_type": "markdown",
      "metadata": {
        "id": "k_iIaAzerIzL"
      },
      "source": [
        "## 6. Loss Function and Optimizer Setup\n",
        "\n",
        "**Key PyTorch Pattern**: Explicit loss and optimizer definition (vs TensorFlow's `model.compile()`):"
      ]
    },
    {
      "cell_type": "code",
      "execution_count": 8,
      "metadata": {
        "id": "Crqeht8WrIzL",
        "outputId": "5568a446-506f-46ba-a208-53b8698f40a6",
        "colab": {
          "base_uri": "https://localhost:8080/"
        }
      },
      "outputs": [
        {
          "output_type": "stream",
          "name": "stdout",
          "text": [
            "🎯 Loss function: CrossEntropyLoss()\n",
            "🔧 Optimizer: Adam (\n",
            "Parameter Group 0\n",
            "    amsgrad: False\n",
            "    betas: (0.9, 0.999)\n",
            "    capturable: False\n",
            "    decoupled_weight_decay: False\n",
            "    differentiable: False\n",
            "    eps: 1e-08\n",
            "    foreach: None\n",
            "    fused: None\n",
            "    initial_lr: 0.001\n",
            "    lr: 0.001\n",
            "    maximize: False\n",
            "    weight_decay: 0\n",
            ")\n",
            "📉 Learning rate scheduler: Step LR (decay by 0.5 every 5 epochs)\n",
            "📊 Initial learning rate: 0.001\n"
          ]
        }
      ],
      "source": [
        "# Loss function and optimizer setup\n",
        "# TensorFlow equivalent: model.compile(optimizer='adam', loss='sparse_categorical_crossentropy')\n",
        "\n",
        "criterion = nn.CrossEntropyLoss()  # For multi-class classification\n",
        "optimizer = optim.Adam(model.parameters(), lr=0.001)  # Adam optimizer\n",
        "\n",
        "# Optional: Learning rate scheduler\n",
        "scheduler = optim.lr_scheduler.StepLR(optimizer, step_size=5, gamma=0.5)\n",
        "\n",
        "print(f\"🎯 Loss function: {criterion}\")\n",
        "print(f\"🔧 Optimizer: {optimizer}\")\n",
        "print(f\"📉 Learning rate scheduler: Step LR (decay by 0.5 every 5 epochs)\")\n",
        "print(f\"📊 Initial learning rate: {optimizer.param_groups[0]['lr']}\")"
      ]
    },
    {
      "cell_type": "markdown",
      "metadata": {
        "id": "pnA_3Xf-rIzL"
      },
      "source": [
        "## 7. Training Loop Implementation\n",
        "\n",
        "**Major Difference from TensorFlow**: PyTorch requires manual training loops instead of `model.fit()`.\n",
        "\n",
        "This gives more control but requires more code:"
      ]
    },
    {
      "cell_type": "code",
      "execution_count": 11,
      "metadata": {
        "id": "Dx8hPn6IrIzL",
        "outputId": "418603f5-84d8-4828-e715-575e6a11a276",
        "colab": {
          "base_uri": "https://localhost:8080/"
        }
      },
      "outputs": [
        {
          "output_type": "stream",
          "name": "stdout",
          "text": [
            "🚀 Starting training for 8 epochs...\n",
            "💾 Device: cuda\n",
            "🔢 Batch size: 32\n",
            "📊 Training batches per epoch: 1563\n",
            "📊 Test batches: 313\n",
            "--------------------------------------------------\n",
            "Epoch [1/8]:\n",
            "  Train Loss: 0.8628, Train Acc: 69.15%\n",
            "  Test Loss: 0.7602, Test Acc: 73.93%\n",
            "  Learning Rate: 0.000250\n",
            "Epoch [2/8]:\n",
            "  Train Loss: 0.8508, Train Acc: 69.45%\n",
            "  Test Loss: 0.7564, Test Acc: 73.86%\n",
            "  Learning Rate: 0.000250\n",
            "Epoch [3/8]:\n",
            "  Train Loss: 0.8468, Train Acc: 69.58%\n",
            "  Test Loss: 0.7568, Test Acc: 74.05%\n",
            "  Learning Rate: 0.000250\n",
            "Epoch [4/8]:\n",
            "  Train Loss: 0.8361, Train Acc: 69.91%\n",
            "  Test Loss: 0.7474, Test Acc: 74.33%\n",
            "  Learning Rate: 0.000125\n",
            "Epoch [5/8]:\n",
            "  Train Loss: 0.8114, Train Acc: 70.77%\n",
            "  Test Loss: 0.7400, Test Acc: 74.13%\n",
            "  Learning Rate: 0.000125\n",
            "Epoch [6/8]:\n",
            "  Train Loss: 0.8065, Train Acc: 70.90%\n",
            "  Test Loss: 0.7433, Test Acc: 74.67%\n",
            "  Learning Rate: 0.000125\n",
            "Epoch [7/8]:\n",
            "  Train Loss: 0.8023, Train Acc: 71.10%\n",
            "  Test Loss: 0.7415, Test Acc: 74.63%\n",
            "  Learning Rate: 0.000125\n",
            "Epoch [8/8]:\n",
            "  Train Loss: 0.8018, Train Acc: 70.87%\n",
            "  Test Loss: 0.7379, Test Acc: 74.65%\n",
            "  Learning Rate: 0.000125\n",
            "\n",
            "✅ Training completed!\n"
          ]
        }
      ],
      "source": [
        "def train_model(model, trainloader, testloader, criterion, optimizer, scheduler,\n",
        "                num_epochs=5, device=device):\n",
        "    \"\"\"\n",
        "    Training function with TensorBoard logging.\n",
        "\n",
        "    TensorFlow equivalent:\n",
        "    model.fit(x_train, y_train, epochs=num_epochs, validation_data=(x_test, y_test))\n",
        "\n",
        "    Args:\n",
        "        model: PyTorch model to train\n",
        "        trainloader: Training data loader\n",
        "        testloader: Test data loader\n",
        "        criterion: Loss function\n",
        "        optimizer: Optimizer\n",
        "        scheduler: Learning rate scheduler\n",
        "        num_epochs: Number of training epochs\n",
        "        device: Device to train on (CPU/GPU)\n",
        "    \"\"\"\n",
        "\n",
        "    print(f\"🚀 Starting training for {num_epochs} epochs...\")\n",
        "    print(f\"💾 Device: {device}\")\n",
        "    print(f\"🔢 Batch size: {batch_size}\")\n",
        "    print(f\"📊 Training batches per epoch: {len(trainloader)}\")\n",
        "    print(f\"📊 Test batches: {len(testloader)}\")\n",
        "    print(\"-\" * 50)\n",
        "\n",
        "    # Training loop\n",
        "    for epoch in range(num_epochs):\n",
        "        # Training phase\n",
        "        model.train()  # Set model to training mode (enables dropout, batch norm)\n",
        "        running_loss = 0.0\n",
        "        correct_train = 0\n",
        "        total_train = 0\n",
        "\n",
        "        for batch_idx, (inputs, labels) in enumerate(trainloader):\n",
        "            # Move data to device\n",
        "            inputs, labels = inputs.to(device), labels.to(device)\n",
        "\n",
        "            # Zero gradients (PyTorch accumulates gradients by default)\n",
        "            optimizer.zero_grad()\n",
        "\n",
        "            # Forward pass\n",
        "            outputs = model(inputs)\n",
        "            loss = criterion(outputs, labels)\n",
        "\n",
        "            # Backward pass and optimization\n",
        "            loss.backward()    # Compute gradients\n",
        "            optimizer.step()   # Update weights\n",
        "\n",
        "            # Statistics\n",
        "            running_loss += loss.item()\n",
        "            _, predicted = torch.max(outputs.data, 1)\n",
        "            total_train += labels.size(0)\n",
        "            correct_train += (predicted == labels).sum().item()\n",
        "\n",
        "            # Log batch-level metrics to TensorBoard\n",
        "            if batch_idx % 200 == 0:  # Log every 200 batches\n",
        "                writer.add_scalar('Loss/Train_Batch', loss.item(),\n",
        "                                epoch * len(trainloader) + batch_idx)\n",
        "\n",
        "        # Calculate epoch training metrics\n",
        "        epoch_loss = running_loss / len(trainloader)\n",
        "        epoch_acc = 100 * correct_train / total_train\n",
        "\n",
        "        # Validation phase\n",
        "        model.eval()  # Set model to evaluation mode (disables dropout)\n",
        "        test_loss = 0.0\n",
        "        correct_test = 0\n",
        "        total_test = 0\n",
        "\n",
        "        with torch.no_grad():  # Disable gradient computation for efficiency\n",
        "            for inputs, labels in testloader:\n",
        "                inputs, labels = inputs.to(device), labels.to(device)\n",
        "                outputs = model(inputs)\n",
        "                loss = criterion(outputs, labels)\n",
        "\n",
        "                test_loss += loss.item()\n",
        "                _, predicted = torch.max(outputs, 1)\n",
        "                total_test += labels.size(0)\n",
        "                correct_test += (predicted == labels).sum().item()\n",
        "\n",
        "        # Calculate test metrics\n",
        "        test_loss = test_loss / len(testloader)\n",
        "        test_acc = 100 * correct_test / total_test\n",
        "\n",
        "        # Update learning rate\n",
        "        scheduler.step()\n",
        "        current_lr = optimizer.param_groups[0]['lr']\n",
        "\n",
        "        # Log epoch-level metrics to TensorBoard\n",
        "        writer.add_scalar('Loss/Train_Epoch', epoch_loss, epoch)\n",
        "        writer.add_scalar('Loss/Test', test_loss, epoch)\n",
        "        writer.add_scalar('Accuracy/Train', epoch_acc, epoch)\n",
        "        writer.add_scalar('Accuracy/Test', test_acc, epoch)\n",
        "        writer.add_scalar('Learning_Rate', current_lr, epoch)\n",
        "\n",
        "        # Log model parameters histogram\n",
        "        for name, param in model.named_parameters():\n",
        "            writer.add_histogram(f'Parameters/{name}', param, epoch)\n",
        "\n",
        "        # Print epoch results\n",
        "        print(f'Epoch [{epoch+1}/{num_epochs}]:')\n",
        "        print(f'  Train Loss: {epoch_loss:.4f}, Train Acc: {epoch_acc:.2f}%')\n",
        "        print(f'  Test Loss: {test_loss:.4f}, Test Acc: {test_acc:.2f}%')\n",
        "        print(f'  Learning Rate: {current_lr:.6f}')\n",
        "\n",
        "        # Early stopping for demo (if we reach good accuracy)\n",
        "        if test_acc > 85.0:  # CIFAR-10 is challenging, 65% is decent for a simple model\n",
        "            print(f\"\\n🎉 Early stopping! Achieved {test_acc:.2f}% test accuracy.\")\n",
        "            break\n",
        "\n",
        "    print(\"\\n✅ Training completed!\")\n",
        "    return model\n",
        "\n",
        "# Train the model (using small number of epochs for demo)\n",
        "num_epochs = 8  # Small number for educational purposes\n",
        "trained_model = train_model(\n",
        "    model, trainloader, testloader, criterion, optimizer, scheduler,\n",
        "    num_epochs=num_epochs, device=device\n",
        ")"
      ]
    },
    {
      "cell_type": "markdown",
      "metadata": {
        "id": "3PbzAcO-rIzL"
      },
      "source": [
        "## 8. Model Evaluation and Testing\n",
        "\n",
        "Let's evaluate our trained model on the test set:"
      ]
    },
    {
      "cell_type": "code",
      "execution_count": 12,
      "metadata": {
        "id": "pY3XiPzurIzL",
        "outputId": "845a18cc-123a-4ea6-a273-b79d3f338be4",
        "colab": {
          "base_uri": "https://localhost:8080/"
        }
      },
      "outputs": [
        {
          "output_type": "stream",
          "name": "stdout",
          "text": [
            "🔍 Evaluating trained model...\n",
            "🎯 Overall Test Accuracy: 74.65%\n",
            "\n",
            "📊 Per-class accuracy:\n",
            "      airplane: 79.3%\n",
            "    automobile: 86.9%\n",
            "          bird: 59.1%\n",
            "           cat: 52.1%\n",
            "          deer: 69.5%\n",
            "           dog: 67.4%\n",
            "          frog: 81.6%\n",
            "         horse: 79.6%\n",
            "          ship: 85.7%\n",
            "         truck: 85.3%\n"
          ]
        }
      ],
      "source": [
        "# Evaluate model on test set\n",
        "def evaluate_model(model, testloader, classes, device=device):\n",
        "    \"\"\"\n",
        "    Evaluate the trained model and show per-class accuracy.\n",
        "    \"\"\"\n",
        "    model.eval()\n",
        "    correct = 0\n",
        "    total = 0\n",
        "    class_correct = list(0. for i in range(len(classes)))\n",
        "    class_total = list(0. for i in range(len(classes)))\n",
        "\n",
        "    with torch.no_grad():\n",
        "        for inputs, labels in testloader:\n",
        "            inputs, labels = inputs.to(device), labels.to(device)\n",
        "            outputs = model(inputs)\n",
        "            _, predicted = torch.max(outputs, 1)\n",
        "            total += labels.size(0)\n",
        "            correct += (predicted == labels).sum().item()\n",
        "\n",
        "            # Per-class accuracy\n",
        "            c = (predicted == labels).squeeze()\n",
        "            for i in range(labels.size(0)):\n",
        "                label = labels[i]\n",
        "                class_correct[label] += c[i].item()\n",
        "                class_total[label] += 1\n",
        "\n",
        "    # Overall accuracy\n",
        "    overall_accuracy = 100 * correct / total\n",
        "    print(f\"🎯 Overall Test Accuracy: {overall_accuracy:.2f}%\")\n",
        "    print(\"\\n📊 Per-class accuracy:\")\n",
        "\n",
        "    # Per-class accuracy\n",
        "    for i in range(len(classes)):\n",
        "        if class_total[i] > 0:\n",
        "            accuracy = 100 * class_correct[i] / class_total[i]\n",
        "            print(f\"  {classes[i]:>12}: {accuracy:.1f}%\")\n",
        "\n",
        "    return overall_accuracy\n",
        "\n",
        "# Evaluate the model\n",
        "print(\"🔍 Evaluating trained model...\")\n",
        "final_accuracy = evaluate_model(trained_model, testloader, classes)"
      ]
    },
    {
      "cell_type": "markdown",
      "metadata": {
        "id": "3hI-MLdXrIzM"
      },
      "source": [
        "## 9. Predictions on Sample Images\n",
        "\n",
        "Let's see how our model performs on some test images:"
      ]
    },
    {
      "cell_type": "code",
      "execution_count": 13,
      "metadata": {
        "id": "fit9glEGrIzM",
        "outputId": "75facaeb-ebb2-4c76-be44-8ecb0343d525",
        "colab": {
          "base_uri": "https://localhost:8080/",
          "height": 734
        }
      },
      "outputs": [
        {
          "output_type": "stream",
          "name": "stderr",
          "text": [
            "/tmp/ipython-input-3490239234.py:40: UserWarning: Glyph 128302 (\\N{CRYSTAL BALL}) missing from font(s) DejaVu Sans.\n",
            "  plt.tight_layout()\n",
            "/usr/local/lib/python3.12/dist-packages/IPython/core/pylabtools.py:151: UserWarning: Glyph 128302 (\\N{CRYSTAL BALL}) missing from font(s) DejaVu Sans.\n",
            "  fig.canvas.print_figure(bytes_io, **kw)\n"
          ]
        },
        {
          "output_type": "display_data",
          "data": {
            "text/plain": [
              "<Figure size 1500x800 with 8 Axes>"
            ],
            "image/png": "[encoded data removed]"
          },
          "metadata": {}
        },
        {
          "output_type": "stream",
          "name": "stdout",
          "text": [
            "📊 Batch accuracy: 81.2% (26/32 correct)\n"
          ]
        }
      ],
      "source": [
        "# Make predictions on sample test images\n",
        "def predict_samples(model, testloader, classes, num_samples=8, device=device):\n",
        "    \"\"\"\n",
        "    Show predictions on sample test images.\n",
        "    \"\"\"\n",
        "    model.eval()\n",
        "\n",
        "    # Get a batch of test images\n",
        "    dataiter = iter(testloader)\n",
        "    images, labels = next(dataiter)\n",
        "    images, labels = images.to(device), labels.to(device)\n",
        "\n",
        "    # Make predictions\n",
        "    with torch.no_grad():\n",
        "        outputs = model(images)\n",
        "        probabilities = F.softmax(outputs, dim=1)\n",
        "        _, predicted = torch.max(outputs, 1)\n",
        "\n",
        "    # Plot results\n",
        "    plt.figure(figsize=(15, 8))\n",
        "    for i in range(num_samples):\n",
        "        plt.subplot(2, 4, i + 1)\n",
        "\n",
        "        # Move image back to CPU for plotting\n",
        "        img = images[i].cpu()\n",
        "        imshow(img)\n",
        "\n",
        "        # Get prediction info\n",
        "        true_label = classes[labels[i]]\n",
        "        pred_label = classes[predicted[i]]\n",
        "        confidence = probabilities[i][predicted[i]].item() * 100\n",
        "\n",
        "        # Color: green if correct, red if wrong\n",
        "        color = 'green' if predicted[i] == labels[i] else 'red'\n",
        "\n",
        "        plt.title(f'True: {true_label}\\nPred: {pred_label} ({confidence:.1f}%)',\n",
        "                 color=color, fontsize=10)\n",
        "\n",
        "    plt.suptitle('🔮 Model Predictions on Test Images', fontsize=16)\n",
        "    plt.tight_layout()\n",
        "    plt.show()\n",
        "\n",
        "    # Calculate accuracy for this batch\n",
        "    correct = (predicted == labels).sum().item()\n",
        "    batch_accuracy = 100 * correct / len(labels)\n",
        "    print(f\"📊 Batch accuracy: {batch_accuracy:.1f}% ({correct}/{len(labels)} correct)\")\n",
        "\n",
        "# Show sample predictions\n",
        "predict_samples(trained_model, testloader, classes)"
      ]
    },
    {
      "cell_type": "markdown",
      "metadata": {
        "id": "0fWZHVQkrIzM"
      },
      "source": [
        "## 10. TensorBoard Visualization Instructions\n",
        "\n",
        "View your training progress with TensorBoard:"
      ]
    },
    {
      "cell_type": "code",
      "execution_count": 14,
      "metadata": {
        "id": "uZGdp41UrIzM",
        "outputId": "b883763b-7196-4f48-b1b5-99c098f4b1a2",
        "colab": {
          "base_uri": "https://localhost:8080/"
        }
      },
      "outputs": [
        {
          "output_type": "stream",
          "name": "stdout",
          "text": [
            "============================================================\n",
            "📊 TENSORBOARD VISUALIZATION\n",
            "============================================================\n",
            "Log directory: /content/tensorboard_logs/hello_pytorch_cifar_2025_09_21-00_33_18\n",
            "\n",
            "🚀 To view TensorBoard:\n",
            "   In Google Colab:\n",
            "   1. Run: %load_ext tensorboard\n",
            "   2. Run: %tensorboard --logdir /content/tensorboard_logs/hello_pytorch_cifar_2025_09_21-00_33_18\n",
            "   3. TensorBoard will appear inline in the notebook\n",
            "\n",
            "📈 Available visualizations:\n",
            "   • Scalars: Loss, accuracy, learning rate over time\n",
            "   • Histograms: Model parameter distributions\n",
            "   • Graphs: Model architecture visualization\n",
            "============================================================\n"
          ]
        }
      ],
      "source": [
        "# Close TensorBoard writer\n",
        "writer.close()\n",
        "\n",
        "# Display TensorBoard viewing instructions\n",
        "print(\"=\" * 60)\n",
        "print(\"📊 TENSORBOARD VISUALIZATION\")\n",
        "print(\"=\" * 60)\n",
        "print(f\"Log directory: {log_dir}\")\n",
        "print(\"\\n🚀 To view TensorBoard:\")\n",
        "\n",
        "if IS_COLAB:\n",
        "    print(\"   In Google Colab:\")\n",
        "    print(\"   1. Run: %load_ext tensorboard\")\n",
        "    print(f\"   2. Run: %tensorboard --logdir {log_dir}\")\n",
        "    print(\"   3. TensorBoard will appear inline in the notebook\")\n",
        "elif IS_KAGGLE:\n",
        "    print(\"   In Kaggle:\")\n",
        "    print(f\"   1. Download logs from: {log_dir}\")\n",
        "    print(\"   2. Run locally: tensorboard --logdir ./tensorboard_logs\")\n",
        "    print(\"   3. Open http://localhost:6006 in browser\")\n",
        "else:\n",
        "    print(\"   Locally:\")\n",
        "    print(f\"   1. Run: tensorboard --logdir {log_dir}\")\n",
        "    print(\"   2. Open http://localhost:6006 in browser\")\n",
        "\n",
        "print(\"\\n📈 Available visualizations:\")\n",
        "print(\"   • Scalars: Loss, accuracy, learning rate over time\")\n",
        "print(\"   • Histograms: Model parameter distributions\")\n",
        "print(\"   • Graphs: Model architecture visualization\")\n",
        "print(\"=\" * 60)"
      ]
    },
    {
      "cell_type": "markdown",
      "metadata": {
        "id": "VRmtcWz9rIzM"
      },
      "source": [
        "## 11. Key Learning Points: TensorFlow vs PyTorch\n",
        "\n",
        "Summary of key differences encountered in this \"Hello World\" example:"
      ]
    },
    {
      "cell_type": "code",
      "execution_count": 15,
      "metadata": {
        "id": "tnfn1wFOrIzM",
        "outputId": "92a83cc3-6e8e-4b83-e61a-28efb5a83b79",
        "colab": {
          "base_uri": "https://localhost:8080/"
        }
      },
      "outputs": [
        {
          "output_type": "stream",
          "name": "stdout",
          "text": [
            "\n",
            "🎓 KEY LEARNING POINTS: TensorFlow → PyTorch Transition\n",
            "\n",
            "1. 🏗️ MODEL DEFINITION:\n",
            "   TensorFlow: tf.keras.Sequential() or Functional API\n",
            "   PyTorch:    nn.Module subclass with __init__ and forward methods\n",
            "\n",
            "2. 🔄 TRAINING LOOPS:\n",
            "   TensorFlow: model.fit() handles everything automatically\n",
            "   PyTorch:    Manual loops with optimizer.zero_grad(), loss.backward(), optimizer.step()\n",
            "\n",
            "3. 📊 DATA LOADING:\n",
            "   TensorFlow: tf.data.Dataset with built-in batching\n",
            "   PyTorch:    DataLoader with explicit dataset and transforms\n",
            "\n",
            "4. 🎯 LOSS & OPTIMIZATION:\n",
            "   TensorFlow: model.compile(optimizer='adam', loss='sparse_categorical_crossentropy')\n",
            "   PyTorch:    Explicit criterion = nn.CrossEntropyLoss() and optimizer = optim.Adam()\n",
            "\n",
            "5. 💾 DEVICE MANAGEMENT:\n",
            "   TensorFlow: Mostly automatic with tf.distribute.Strategy\n",
            "   PyTorch:    Explicit .to(device) calls for model and data\n",
            "\n",
            "6. 🎭 TRAINING/INFERENCE MODES:\n",
            "   TensorFlow: Implicit (training=True/False parameter)\n",
            "   PyTorch:    Explicit model.train() and model.eval() calls\n",
            "\n",
            "7. 📈 MONITORING:\n",
            "   TensorFlow: Built-in callbacks and metrics\n",
            "   PyTorch:    Manual TensorBoard logging with SummaryWriter\n",
            "\n",
            "🚀 ADVANTAGES OF PYTORCH:\n",
            "   ✅ More explicit control over training process\n",
            "   ✅ Dynamic computation graphs (easier debugging)\n",
            "   ✅ Pythonic and intuitive API\n",
            "   ✅ Better integration with Hugging Face transformers\n",
            "   ✅ Immediate execution (no session.run())\n",
            "\n",
            "🎯 NEXT STEPS:\n",
            "   1. Practice with more complex architectures\n",
            "   2. Explore Hugging Face transformers\n",
            "   3. Learn custom dataset creation\n",
            "   4. Study advanced PyTorch features (autograd, hooks, etc.)\n",
            "\n"
          ]
        }
      ],
      "source": [
        "print(\"\"\"\n",
        "🎓 KEY LEARNING POINTS: TensorFlow → PyTorch Transition\n",
        "\n",
        "1. 🏗️ MODEL DEFINITION:\n",
        "   TensorFlow: tf.keras.Sequential() or Functional API\n",
        "   PyTorch:    nn.Module subclass with __init__ and forward methods\n",
        "\n",
        "2. 🔄 TRAINING LOOPS:\n",
        "   TensorFlow: model.fit() handles everything automatically\n",
        "   PyTorch:    Manual loops with optimizer.zero_grad(), loss.backward(), optimizer.step()\n",
        "\n",
        "3. 📊 DATA LOADING:\n",
        "   TensorFlow: tf.data.Dataset with built-in batching\n",
        "   PyTorch:    DataLoader with explicit dataset and transforms\n",
        "\n",
        "4. 🎯 LOSS & OPTIMIZATION:\n",
        "   TensorFlow: model.compile(optimizer='adam', loss='sparse_categorical_crossentropy')\n",
        "   PyTorch:    Explicit criterion = nn.CrossEntropyLoss() and optimizer = optim.Adam()\n",
        "\n",
        "5. 💾 DEVICE MANAGEMENT:\n",
        "   TensorFlow: Mostly automatic with tf.distribute.Strategy\n",
        "   PyTorch:    Explicit .to(device) calls for model and data\n",
        "\n",
        "6. 🎭 TRAINING/INFERENCE MODES:\n",
        "   TensorFlow: Implicit (training=True/False parameter)\n",
        "   PyTorch:    Explicit model.train() and model.eval() calls\n",
        "\n",
        "7. 📈 MONITORING:\n",
        "   TensorFlow: Built-in callbacks and metrics\n",
        "   PyTorch:    Manual TensorBoard logging with SummaryWriter\n",
        "\n",
        "🚀 ADVANTAGES OF PYTORCH:\n",
        "   ✅ More explicit control over training process\n",
        "   ✅ Dynamic computation graphs (easier debugging)\n",
        "   ✅ Pythonic and intuitive API\n",
        "   ✅ Better integration with Hugging Face transformers\n",
        "   ✅ Immediate execution (no session.run())\n",
        "\n",
        "🎯 NEXT STEPS:\n",
        "   1. Practice with more complex architectures\n",
        "   2. Explore Hugging Face transformers\n",
        "   3. Learn custom dataset creation\n",
        "   4. Study advanced PyTorch features (autograd, hooks, etc.)\n",
        "\"\"\")"
      ]
    },
    {
      "cell_type": "markdown",
      "metadata": {
        "id": "bSZS8CGgrIzM"
      },
      "source": [
        "## 12. Model Saving (Optional)\n",
        "\n",
        "Save your trained model for future use:"
      ]
    },
    {
      "cell_type": "code",
      "execution_count": 16,
      "metadata": {
        "id": "u4YnMJUcrIzM",
        "outputId": "ccb5761e-7a55-47ea-ee9d-53d1e8d19f85",
        "colab": {
          "base_uri": "https://localhost:8080/"
        }
      },
      "outputs": [
        {
          "output_type": "stream",
          "name": "stdout",
          "text": [
            "💾 Model saved to: ./hello_pytorch_cifar10_model.pth\n",
            "\n",
            "🎉 Hello PyTorch CIFAR-10 tutorial completed!\n",
            "📊 Final test accuracy: 74.65%\n",
            "🧠 Model parameters: 282,250\n",
            "⏱️ Training epochs: 8\n"
          ]
        }
      ],
      "source": [
        "# Save the trained model\n",
        "model_save_path = './hello_pytorch_cifar10_model.pth'\n",
        "\n",
        "# PyTorch way: Save state dictionary\n",
        "torch.save(trained_model.state_dict(), model_save_path)\n",
        "print(f\"💾 Model saved to: {model_save_path}\")\n",
        "\n",
        "# To load the model later:\n",
        "# model = SimpleCIFAR10CNN()\n",
        "# model.load_state_dict(torch.load(model_save_path))\n",
        "# model.eval()\n",
        "\n",
        "print(f\"\\n🎉 Hello PyTorch CIFAR-10 tutorial completed!\")\n",
        "print(f\"📊 Final test accuracy: {final_accuracy:.2f}%\")\n",
        "print(f\"🧠 Model parameters: {model.get_model_info()['total_parameters']:,}\")\n",
        "print(f\"⏱️ Training epochs: {num_epochs}\")"
      ]
    },
    {
      "cell_type": "markdown",
      "metadata": {
        "id": "gy8ZTniLrIzM"
      },
      "source": [
        "---\n",
        "\n",
        "## 🎓 Congratulations!\n",
        "\n",
        "You've successfully completed your first PyTorch \"Hello World\" with CIFAR-10! You've learned:\n",
        "\n",
        "✅ **PyTorch Fundamentals**: Tensors, autograd, and nn.Module  \n",
        "✅ **Model Definition**: Creating CNN architectures with PyTorch  \n",
        "✅ **Data Handling**: DataLoaders and transforms  \n",
        "✅ **Training Loops**: Manual training vs TensorFlow's model.fit()  \n",
        "✅ **Monitoring**: TensorBoard integration for PyTorch  \n",
        "✅ **Model Evaluation**: Testing and visualization  \n",
        "\n",
        "### 🚀 Next Steps in Your PyTorch Journey:\n",
        "\n",
        "1. **Advanced CNN Architectures**: ResNet, VGG, EfficientNet\n",
        "2. **Transfer Learning**: Using pre-trained models\n",
        "3. **Hugging Face Integration**: Modern NLP with transformers\n",
        "4. **Custom Datasets**: Working with your own data\n",
        "5. **Advanced Training**: Mixed precision, distributed training\n",
        "\n",
        "**Happy learning with PyTorch!** 🔥\n",
        "\n",
        "---\n",
        "\n",
        "*This notebook demonstrates fundamental PyTorch concepts through a practical CIFAR-10 classification example. For more advanced tutorials and examples, explore the other notebooks in this repository.*"
      ]
    }
  ],
  "metadata": {
    "kernelspec": {
      "display_name": "Python 3",
      "name": "python3"
    },
    "language_info": {
      "codemirror_mode": {
        "name": "ipython",
        "version": 3
      },
      "file_extension": ".py",
      "mimetype": "text/x-python",
      "name": "python",
      "nbconvert_exporter": "python",
      "pygments_lexer": "ipython3",
      "version": "3.8.0"
    },
    "colab": {
      "provenance": [],
      "gpuType": "T4"
    },
    "accelerator": "GPU"
  },
  "nbformat": 4,
  "nbformat_minor": 0
}